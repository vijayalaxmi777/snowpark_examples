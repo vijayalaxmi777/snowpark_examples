{
 "cells": [
  {
   "cell_type": "code",
   "execution_count": 2,
   "id": "616b3a8e-7ccf-443d-b42a-03d80f6c2094",
   "metadata": {},
   "outputs": [],
   "source": [
    "from snowflake.snowpark import Session\n"
   ]
  },
  {
   "cell_type": "code",
   "execution_count": 2,
   "id": "97c72126-bce1-4c49-9cf2-b0e4034e4306",
   "metadata": {},
   "outputs": [],
   "source": [
    "# Replace placeholder with actual credentials\n",
    "connection_parameters = {\n",
    "    \"account\": \"<your snowflake account>\",\n",
    "    \"user\": \"<your snowflake user>\",\n",
    "    \"password\": \"<your snowflake password>\",\n",
    "    \"role\": \"<your snowflake role>\",  # optional\n",
    "    \"warehouse\": \"<your snowflake warehouse>\",  # optional\n",
    "    \"database\": \"<your snowflake database>\",  # optional\n",
    "    \"schema\": \"<your snowflake schema>\",  # optional\n",
    "    }  "
   ]
  },
  {
   "cell_type": "code",
   "execution_count": 3,
   "id": "9105e8b4-b6e7-4bb6-978c-739340a7bcd0",
   "metadata": {},
   "outputs": [],
   "source": [
    "new_session = Session.builder.configs(connection_parameters).create()  "
   ]
  },
  {
   "cell_type": "code",
   "execution_count": 4,
   "id": "6591952d-5d50-4328-8aca-abdf6c10ebbf",
   "metadata": {},
   "outputs": [],
   "source": [
    "new_session.close()  \n"
   ]
  }
 ],
 "metadata": {
  "kernelspec": {
   "display_name": "Python 3 (ipykernel)",
   "language": "python",
   "name": "python3"
  },
  "language_info": {
   "codemirror_mode": {
    "name": "ipython",
    "version": 3
   },
   "file_extension": ".py",
   "mimetype": "text/x-python",
   "name": "python",
   "nbconvert_exporter": "python",
   "pygments_lexer": "ipython3",
   "version": "3.9.12"
  }
 },
 "nbformat": 4,
 "nbformat_minor": 5
}
