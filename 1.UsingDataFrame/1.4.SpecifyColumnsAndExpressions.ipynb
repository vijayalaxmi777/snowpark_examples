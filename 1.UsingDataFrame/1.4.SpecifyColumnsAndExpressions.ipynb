{
 "cells": [
  {
   "cell_type": "code",
   "execution_count": 1,
   "id": "2f80aab4-d491-436f-b136-cae2d2806f1d",
   "metadata": {},
   "outputs": [],
   "source": [
    "from snowflake.snowpark import Session"
   ]
  },
  {
   "cell_type": "code",
   "execution_count": null,
   "id": "5e68ce6a-e791-43cd-b193-d72dd43a0371",
   "metadata": {},
   "outputs": [],
   "source": [
    "\n",
    "# Define - connection_parameters as mentioned in creating session  \n",
    "Session.builder.configs().create()"
   ]
  },
  {
   "cell_type": "code",
   "execution_count": 5,
   "id": "ef48c763-b99f-4623-9306-5557f630796a",
   "metadata": {},
   "outputs": [
    {
     "name": "stdout",
     "output_type": "stream",
     "text": [
      "-------------------------------------------------------------------------------------\n",
      "|\"ID\"  |\"PARENT_ID\"  |\"CATEGORY_ID\"  |\"NAME\"      |\"SERIAL_NUMBER\"  |\"KEY\"  |\"3rd\"  |\n",
      "-------------------------------------------------------------------------------------\n",
      "|1     |0            |5              |Product 1   |prod-1           |1      |10     |\n",
      "|2     |1            |5              |Product 1A  |prod-1-A         |1      |20     |\n",
      "|3     |1            |5              |Product 1B  |prod-1-B         |1      |30     |\n",
      "|4     |0            |10             |Product 2   |prod-2           |2      |40     |\n",
      "|5     |4            |10             |Product 2A  |prod-2-A         |2      |50     |\n",
      "|6     |4            |10             |Product 2B  |prod-2-B         |2      |60     |\n",
      "|7     |0            |20             |Product 3   |prod-3           |3      |70     |\n",
      "|8     |7            |20             |Product 3A  |prod-3-A         |3      |80     |\n",
      "|9     |7            |20             |Product 3B  |prod-3-B         |3      |90     |\n",
      "|10    |0            |50             |Product 4   |prod-4           |4      |100    |\n",
      "-------------------------------------------------------------------------------------\n",
      "\n"
     ]
    }
   ],
   "source": [
    "df = session.table(\"sample_product_data\")\n",
    "df.show()"
   ]
  },
  {
   "cell_type": "code",
   "execution_count": 6,
   "id": "35e940d4-68e1-425b-a9b1-ceec222c02e2",
   "metadata": {},
   "outputs": [
    {
     "name": "stdout",
     "output_type": "stream",
     "text": [
      "---------------------\n",
      "|\"ID\"  |\"NAME\"      |\n",
      "---------------------\n",
      "|1     |Product 1   |\n",
      "|2     |Product 1A  |\n",
      "|3     |Product 1B  |\n",
      "|4     |Product 2   |\n",
      "|5     |Product 2A  |\n",
      "|6     |Product 2B  |\n",
      "|7     |Product 3   |\n",
      "|8     |Product 3A  |\n",
      "|9     |Product 3B  |\n",
      "|10    |Product 4   |\n",
      "---------------------\n",
      "\n"
     ]
    }
   ],
   "source": [
    "df = session.table(\"sample_product_data\").select(col(\"id\"), col(\"name\"))\n",
    "df.show()"
   ]
  },
  {
   "cell_type": "code",
   "execution_count": 11,
   "id": "5b0058b6-9feb-4223-a349-bb219adc6e90",
   "metadata": {},
   "outputs": [
    {
     "name": "stdout",
     "output_type": "stream",
     "text": [
      "-------------\n",
      "|\"A\"  |\"B\"  |\n",
      "-------------\n",
      "|1    |3    |\n",
      "|2    |4    |\n",
      "-------------\n",
      "\n"
     ]
    }
   ],
   "source": [
    "df = session.create_dataframe([[1,3],[2,4]], schema = [\"a\", \"b\"])\n",
    "df_filtered = df.filter(col(\"a\") + col(\"b\") < 10)\n",
    "df_filtered.show()"
   ]
  },
  {
   "cell_type": "code",
   "execution_count": 14,
   "id": "6b17331e-fd2d-48e1-854a-e61ba33cdb9f",
   "metadata": {},
   "outputs": [
    {
     "name": "stdout",
     "output_type": "stream",
     "text": [
      "-------\n",
      "|\"C\"  |\n",
      "-------\n",
      "|10   |\n",
      "|30   |\n",
      "-------\n",
      "\n"
     ]
    }
   ],
   "source": [
    "# Col with select method and alias\n",
    "df = session.create_dataframe([[1,2],[3,4]], schema=[\"a\", \"b\"])\n",
    "df_sel = df.select((col(\"a\")*10).as_(\"c\"))\n",
    "df_sel.show()"
   ]
  },
  {
   "cell_type": "code",
   "execution_count": 16,
   "id": "1b8b631e-648e-48e0-b712-dac5d626dd7d",
   "metadata": {},
   "outputs": [
    {
     "name": "stdout",
     "output_type": "stream",
     "text": [
      "-------------------------\n",
      "|\"A\"  |\"B\"  |\"C\"  |\"D\"  |\n",
      "-------------------------\n",
      "|1    |2    |5    |1    |\n",
      "|3    |4    |7    |3    |\n",
      "-------------------------\n",
      "\n"
     ]
    }
   ],
   "source": [
    "# Col with join method\n",
    "df_a = session.create_dataframe([[1,2],[3,4]], schema=[\"a\",\"b\"])\n",
    "df_b = session.create_dataframe([[5,1],[7,3]], schema=[\"c\", \"d\"])\n",
    "df_joined = df_a.join(df_b,col(\"a\")==col('d'))\n",
    "df_joined.show()"
   ]
  },
  {
   "cell_type": "code",
   "execution_count": 19,
   "id": "b5cb77f2-cfe7-4aed-9c9c-642c4e50a482",
   "metadata": {},
   "outputs": [
    {
     "name": "stdout",
     "output_type": "stream",
     "text": [
      "-------------------------\n",
      "|\"A\"  |\"B\"  |\"C\"  |\"D\"  |\n",
      "-------------------------\n",
      "|3    |4    |7    |3    |\n",
      "-------------------------\n",
      "\n"
     ]
    }
   ],
   "source": [
    "# Using literals as column objects\n",
    "from snowflake.snowpark.functions import col,lit\n",
    "df_filtered = df_joined.filter(col('c')> lit(5))\n",
    "df_filtered.show()"
   ]
  },
  {
   "cell_type": "code",
   "execution_count": 46,
   "id": "e2bd765a-6d27-410b-8ea6-3f39ca7a9189",
   "metadata": {},
   "outputs": [
    {
     "name": "stdout",
     "output_type": "stream",
     "text": [
      "root\n",
      " |-- \"A\": LongType() (nullable = False)\n",
      " |-- \"C\": LongType() (nullable = False)\n",
      " |-- \"D\": LongType() (nullable = False)\n",
      " |-- \"B\": DoubleType() (nullable = False)\n",
      "--------------------------\n",
      "|\"A\"  |\"C\"  |\"D\"  |\"B\"   |\n",
      "--------------------------\n",
      "|3    |7    |3    |0.05  |\n",
      "--------------------------\n",
      "\n",
      "root\n",
      " |-- \"A\": LongType() (nullable = False)\n",
      " |-- \"C\": LongType() (nullable = False)\n",
      " |-- \"D\": LongType() (nullable = False)\n",
      " |-- \"B\": DecimalType(5, 2) (nullable = False)\n",
      "--------------------------\n",
      "|\"A\"  |\"C\"  |\"D\"  |\"B\"   |\n",
      "--------------------------\n",
      "|3    |7    |3    |0.05  |\n",
      "--------------------------\n",
      "\n"
     ]
    }
   ],
   "source": [
    "# Casting a Column Object to a Specific Type\n",
    "from snowflake.snowpark.functions import lit\n",
    "from snowflake.snowpark.types import DecimalType\n",
    "a=(0.05)\n",
    "df = df_filtered.withColumn(\"b\",lit(a))\n",
    "df.printSchema()\n",
    "df.show()\n",
    "\n",
    "decimal_value = lit(0.05).cast(DecimalType(5,2))\n",
    "df = df_filtered.withColumn(\"b\",decimal_value)\n",
    "df.printSchema()\n",
    "df.show()"
   ]
  },
  {
   "cell_type": "code",
   "execution_count": null,
   "id": "affaca0e-3a6a-422c-b9a6-ad26d5fceaf6",
   "metadata": {},
   "outputs": [],
   "source": [
    "session.close()"
   ]
  }
 ],
 "metadata": {
  "kernelspec": {
   "display_name": "Python 3 (ipykernel)",
   "language": "python",
   "name": "python3"
  },
  "language_info": {
   "codemirror_mode": {
    "name": "ipython",
    "version": 3
   },
   "file_extension": ".py",
   "mimetype": "text/x-python",
   "name": "python",
   "nbconvert_exporter": "python",
   "pygments_lexer": "ipython3",
   "version": "3.9.12"
  }
 },
 "nbformat": 4,
 "nbformat_minor": 5
}
