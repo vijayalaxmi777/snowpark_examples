{
 "cells": [
  {
   "cell_type": "code",
   "execution_count": 2,
   "id": "b7e07555-f5f8-4b23-aadd-eda50aa6d316",
   "metadata": {},
   "outputs": [],
   "source": [
    "from snowflake.snowpark import Session\n",
    "# Define - connection_parameters as mentioned in creating session \n",
    "new_session = Session.builder.configs(connection_parameters).create()  "
   ]
  },
  {
   "cell_type": "code",
   "execution_count": 3,
   "id": "c449a6ad-6ddc-43f5-a04f-a7303859405c",
   "metadata": {},
   "outputs": [],
   "source": [
    "# create a DataFrame - from data in a table, view, or stream, call the table method\n",
    "df_table = new_session.table(\"sample_product_data\")"
   ]
  },
  {
   "cell_type": "code",
   "execution_count": 4,
   "id": "f36ad064-e820-48d7-91dd-99edb8202fcc",
   "metadata": {},
   "outputs": [
    {
     "name": "stdout",
     "output_type": "stream",
     "text": [
      "-------------------------------------------------------------------------------------\n",
      "|\"ID\"  |\"PARENT_ID\"  |\"CATEGORY_ID\"  |\"NAME\"      |\"SERIAL_NUMBER\"  |\"KEY\"  |\"3rd\"  |\n",
      "-------------------------------------------------------------------------------------\n",
      "|1     |0            |5              |Product 1   |prod-1           |1      |10     |\n",
      "|2     |1            |5              |Product 1A  |prod-1-A         |1      |20     |\n",
      "|3     |1            |5              |Product 1B  |prod-1-B         |1      |30     |\n",
      "|4     |0            |10             |Product 2   |prod-2           |2      |40     |\n",
      "|5     |4            |10             |Product 2A  |prod-2-A         |2      |50     |\n",
      "|6     |4            |10             |Product 2B  |prod-2-B         |2      |60     |\n",
      "|7     |0            |20             |Product 3   |prod-3           |3      |70     |\n",
      "|8     |7            |20             |Product 3A  |prod-3-A         |3      |80     |\n",
      "|9     |7            |20             |Product 3B  |prod-3-B         |3      |90     |\n",
      "|10    |0            |50             |Product 4   |prod-4           |4      |100    |\n",
      "-------------------------------------------------------------------------------------\n",
      "\n"
     ]
    }
   ],
   "source": [
    "df_table.show()"
   ]
  },
  {
   "cell_type": "code",
   "execution_count": null,
   "id": "e0495eb7-beda-4128-922e-22add8aa51ff",
   "metadata": {},
   "outputs": [],
   "source": []
  }
 ],
 "metadata": {
  "kernelspec": {
   "display_name": "Python 3 (ipykernel)",
   "language": "python",
   "name": "python3"
  },
  "language_info": {
   "codemirror_mode": {
    "name": "ipython",
    "version": 3
   },
   "file_extension": ".py",
   "mimetype": "text/x-python",
   "name": "python",
   "nbconvert_exporter": "python",
   "pygments_lexer": "ipython3",
   "version": "3.9.12"
  }
 },
 "nbformat": 4,
 "nbformat_minor": 5
}
