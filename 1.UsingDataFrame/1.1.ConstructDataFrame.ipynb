{
 "cells": [
  {
   "cell_type": "code",
   "execution_count": 3,
   "id": "b7e07555-f5f8-4b23-aadd-eda50aa6d316",
   "metadata": {},
   "outputs": [],
   "source": [
    "from snowflake.snowpark import Session\n",
    "# Define - connection_parameters as mentioned in creating session \n",
    "session = Session.builder.configs(connection_parameters).create()  "
   ]
  },
  {
   "cell_type": "code",
   "execution_count": 4,
   "id": "ead7b0b8-4238-4536-b861-1f8a28d5cb02",
   "metadata": {},
   "outputs": [
    {
     "data": {
      "text/plain": [
       "[Row(status='Table SAMPLE_PRODUCT_DATA successfully created.')]"
      ]
     },
     "execution_count": 4,
     "metadata": {},
     "output_type": "execute_result"
    }
   ],
   "source": [
    "session.sql('CREATE OR REPLACE TABLE sample_product_data (id INT, parent_id INT, category_id INT, name VARCHAR, serial_number VARCHAR, key INT, \"3rd\" INT)').collect()"
   ]
  },
  {
   "cell_type": "code",
   "execution_count": 5,
   "id": "0eda9f19-3cb5-479d-83a4-a74ac407188a",
   "metadata": {},
   "outputs": [
    {
     "data": {
      "text/plain": [
       "[Row(number of rows inserted=12)]"
      ]
     },
     "execution_count": 5,
     "metadata": {},
     "output_type": "execute_result"
    }
   ],
   "source": [
    "\n",
    "session.sql(\"\"\"\n",
    "INSERT INTO sample_product_data VALUES\n",
    "(1, 0, 5, 'Product 1', 'prod-1', 1, 10),\n",
    "(2, 1, 5, 'Product 1A', 'prod-1-A', 1, 20),\n",
    "(3, 1, 5, 'Product 1B', 'prod-1-B', 1, 30),\n",
    "(4, 0, 10, 'Product 2', 'prod-2', 2, 40),\n",
    "(5, 4, 10, 'Product 2A', 'prod-2-A', 2, 50),\n",
    "(6, 4, 10, 'Product 2B', 'prod-2-B', 2, 60),\n",
    "(7, 0, 20, 'Product 3', 'prod-3', 3, 70),\n",
    "(8, 7, 20, 'Product 3A', 'prod-3-A', 3, 80),\n",
    "(9, 7, 20, 'Product 3B', 'prod-3-B', 3, 90),\n",
    "(10, 0, 50, 'Product 4', 'prod-4', 4, 100),\n",
    "(11, 10, 50, 'Product 4A', 'prod-4-A', 4, 100),\n",
    "(12, 10, 50, 'Product 4B', 'prod-4-B', 4, 100)\n",
    " \"\"\").collect()\n"
   ]
  },
  {
   "cell_type": "code",
   "execution_count": 8,
   "id": "e090f92f-b21a-4b17-a090-cec42c2d5d5f",
   "metadata": {},
   "outputs": [
    {
     "data": {
      "text/plain": [
       "[Row(COUNT(*)=12)]"
      ]
     },
     "execution_count": 8,
     "metadata": {},
     "output_type": "execute_result"
    }
   ],
   "source": [
    "session.sql(\"SELECT count(*) FROM sample_product_data\").collect()"
   ]
  },
  {
   "cell_type": "code",
   "execution_count": 32,
   "id": "c449a6ad-6ddc-43f5-a04f-a7303859405c",
   "metadata": {},
   "outputs": [],
   "source": [
    "# create a DataFrame - from data in a table, view, or stream, call the table method\n",
    "df_table = session.table(\"sample_product_data\")"
   ]
  },
  {
   "cell_type": "code",
   "execution_count": 33,
   "id": "f36ad064-e820-48d7-91dd-99edb8202fcc",
   "metadata": {},
   "outputs": [
    {
     "name": "stdout",
     "output_type": "stream",
     "text": [
      "-------------------------------------------------------------------------------------\n",
      "|\"ID\"  |\"PARENT_ID\"  |\"CATEGORY_ID\"  |\"NAME\"      |\"SERIAL_NUMBER\"  |\"KEY\"  |\"3rd\"  |\n",
      "-------------------------------------------------------------------------------------\n",
      "|1     |0            |5              |Product 1   |prod-1           |1      |10     |\n",
      "|2     |1            |5              |Product 1A  |prod-1-A         |1      |20     |\n",
      "|3     |1            |5              |Product 1B  |prod-1-B         |1      |30     |\n",
      "|4     |0            |10             |Product 2   |prod-2           |2      |40     |\n",
      "|5     |4            |10             |Product 2A  |prod-2-A         |2      |50     |\n",
      "|6     |4            |10             |Product 2B  |prod-2-B         |2      |60     |\n",
      "|7     |0            |20             |Product 3   |prod-3           |3      |70     |\n",
      "|8     |7            |20             |Product 3A  |prod-3-A         |3      |80     |\n",
      "|9     |7            |20             |Product 3B  |prod-3-B         |3      |90     |\n",
      "|10    |0            |50             |Product 4   |prod-4           |4      |100    |\n",
      "-------------------------------------------------------------------------------------\n",
      "\n"
     ]
    }
   ],
   "source": [
    "df_table.show()"
   ]
  },
  {
   "cell_type": "code",
   "execution_count": 10,
   "id": "e0495eb7-beda-4128-922e-22add8aa51ff",
   "metadata": {},
   "outputs": [
    {
     "name": "stdout",
     "output_type": "stream",
     "text": [
      "-------\n",
      "|\"A\"  |\n",
      "-------\n",
      "|1    |\n",
      "|2    |\n",
      "|3    |\n",
      "|4    |\n",
      "-------\n",
      "\n"
     ]
    }
   ],
   "source": [
    "# Create df from specific value\n",
    "df = session.create_dataframe([1,2,3,4]).to_df(\"a\")\n",
    "df.show()"
   ]
  },
  {
   "cell_type": "code",
   "execution_count": 15,
   "id": "3116bf94-87bc-4af1-88ea-8bd8f9698170",
   "metadata": {},
   "outputs": [
    {
     "name": "stdout",
     "output_type": "stream",
     "text": [
      "-------------------------\n",
      "|\"A\"  |\"B\"  |\"C\"  |\"D\"  |\n",
      "-------------------------\n",
      "|1    |2    |3    |4    |\n",
      "-------------------------\n",
      "\n"
     ]
    }
   ],
   "source": [
    "# Create a DataFrame with 4 columns, “a”, “b”, “c” and “d”:\n",
    "df = session.create_dataframe([[1,2,3,4]],schema=[\"a\", \"b\", \"c\", \"d\"])\n",
    "df.show()"
   ]
  },
  {
   "cell_type": "code",
   "execution_count": 16,
   "id": "88d173e1-5e31-4e77-b7a9-fe12aa80b1df",
   "metadata": {},
   "outputs": [
    {
     "name": "stdout",
     "output_type": "stream",
     "text": [
      "-------------------------\n",
      "|\"A\"  |\"B\"  |\"C\"  |\"D\"  |\n",
      "-------------------------\n",
      "|1    |2    |3    |4    |\n",
      "-------------------------\n",
      "\n"
     ]
    }
   ],
   "source": [
    "# Create another DataFrame with 4 columns, “a”, “b”, “c” and “d”:\n",
    "from snowflake.snowpark import Row\n",
    "df = session.create_dataframe([Row(a=1, b=2, c=3, d=4)])\n",
    "df.show()"
   ]
  },
  {
   "cell_type": "code",
   "execution_count": 19,
   "id": "26e21ad7-a5c5-4727-9829-08cb36e1be9e",
   "metadata": {},
   "outputs": [
    {
     "name": "stdout",
     "output_type": "stream",
     "text": [
      "----------------------\n",
      "|\"A\"  |\"B\"   |\"C\"    |\n",
      "----------------------\n",
      "|1    |snow  |flake  |\n",
      "|2    |AWS   |Cloud  |\n",
      "----------------------\n",
      "\n"
     ]
    }
   ],
   "source": [
    "# Create a DataFrame and specify a schema:\n",
    "from snowflake.snowpark.types import IntegerType, StringType, StructType, StructField\n",
    "schema = StructType(\n",
    "    [\n",
    "        StructField(\"a\",IntegerType()),\n",
    "        StructField(\"b\",StringType()),\n",
    "        StructField(\"c\",StringType())\n",
    "    ]\n",
    ")\n",
    "df = session.create_dataframe([[1,\"snow\",\"flake\"],[2, \"AWS\",\"Cloud\"]],schema)\n",
    "df.show()"
   ]
  },
  {
   "cell_type": "code",
   "execution_count": 23,
   "id": "fb59e0d9-261b-4ac3-8273-17517987fb7c",
   "metadata": {},
   "outputs": [
    {
     "name": "stdout",
     "output_type": "stream",
     "text": [
      "-------\n",
      "|\"A\"  |\n",
      "-------\n",
      "|1    |\n",
      "|4    |\n",
      "|7    |\n",
      "-------\n",
      "\n"
     ]
    }
   ],
   "source": [
    "# To create a DataFrame containing a range of values\n",
    "df = session.range(1,10,3).to_df(\"a\") # increment by 3\n",
    "df.show()"
   ]
  },
  {
   "cell_type": "code",
   "execution_count": 25,
   "id": "fb830a4d-6133-4b88-99fd-eedc9c25eaec",
   "metadata": {},
   "outputs": [
    {
     "name": "stdout",
     "output_type": "stream",
     "text": [
      "------------------------------------------------------\n",
      "|\"$1\"                                                |\n",
      "------------------------------------------------------\n",
      "|[                                                   |\n",
      "|  {                                                 |\n",
      "|    \"_id\": \"65d8f0f28b486933b8e84db9\",              |\n",
      "|    \"about\": \"Id dolore id exercitation pariatu...  |\n",
      "|    \"address\": \"354 Railroad Avenue, Westmorela...  |\n",
      "|    \"age\": 27,                                      |\n",
      "|    \"balance\": \"$2,128.87\",                         |\n",
      "|    \"company\": \"FURNAFIX\",                          |\n",
      "|    \"email\": \"joanneblevins@furnafix.com\",          |\n",
      "|    \"eyeColor\": \"brown\",                            |\n",
      "|    \"favoriteFruit\": \"strawberry\",                  |\n",
      "|    \"friends\": [                                    |\n",
      "|      {                                             |\n",
      "|        \"id\": 0,                                    |\n",
      "|        \"name\": \"Beck Cantrell\"                     |\n",
      "|      },                                            |\n",
      "|      {                                             |\n",
      "|        \"id\": 1,                                    |\n",
      "|        \"name\": \"Josefa Meadows\"                    |\n",
      "|      },                                            |\n",
      "|      {                                             |\n",
      "|        \"id\": 2,                                    |\n",
      "|        \"name\": \"Veronica Rosales\"                  |\n",
      "|      }                                             |\n",
      "|    ],                                              |\n",
      "|    \"gender\": \"female\",                             |\n",
      "|    \"greeting\": \"Hello, Joanne Blevins! You hav...  |\n",
      "|    \"guid\": \"d5932003-16f9-44e1-9373-afa809469c...  |\n",
      "|    \"index\": 0,                                     |\n",
      "|    \"isActive\": false,                              |\n",
      "|    \"latitude\": 65.082585,                          |\n",
      "|    \"longitude\": -154.302164,                       |\n",
      "|    \"name\": \"Joanne Blevins\",                       |\n",
      "|    \"phone\": \"+1 (845) 543-3414\",                   |\n",
      "|    \"picture\": \"http://placehold.it/32x32\",         |\n",
      "|    \"registered\": \"2022-01-04T12:07:41 -06:-30\",    |\n",
      "|    \"tags\": [                                       |\n",
      "|      \"pariatur\",                                   |\n",
      "|      \"fugiat\",                                     |\n",
      "|      \"duis\",                                       |\n",
      "|      \"ad\",                                         |\n",
      "|      \"magna\",                                      |\n",
      "|      \"minim\",                                      |\n",
      "|      \"esse\"                                        |\n",
      "|    ]                                               |\n",
      "|  },                                                |\n",
      "|  {                                                 |\n",
      "|    \"_id\": \"65d8f0f20c41d423c855ec7d\",              |\n",
      "|    \"about\": \"Mollit ex proident commodo occaec...  |\n",
      "|    \"address\": \"233 Cedar Street, Grazierville,...  |\n",
      "|    \"age\": 37,                                      |\n",
      "|    \"balance\": \"$2,663.32\",                         |\n",
      "|    \"company\": \"NORALEX\",                           |\n",
      "|    \"email\": \"elmajennings@noralex.com\",            |\n",
      "|    \"eyeColor\": \"green\",                            |\n",
      "|    \"favoriteFruit\": \"apple\",                       |\n",
      "|    \"friends\": [                                    |\n",
      "|      {                                             |\n",
      "|        \"id\": 0,                                    |\n",
      "|        \"name\": \"John Valentine\"                    |\n",
      "|      },                                            |\n",
      "|      {                                             |\n",
      "|        \"id\": 1,                                    |\n",
      "|        \"name\": \"Haynes Reyes\"                      |\n",
      "|      },                                            |\n",
      "|      {                                             |\n",
      "|        \"id\": 2,                                    |\n",
      "|        \"name\": \"Eaton Larson\"                      |\n",
      "|      }                                             |\n",
      "|    ],                                              |\n",
      "|    \"gender\": \"female\",                             |\n",
      "|    \"greeting\": \"Hello, Elma Jennings! You have...  |\n",
      "|    \"guid\": \"8c4bec66-a8ae-45ca-a22a-5880a9e394...  |\n",
      "|    \"index\": 1,                                     |\n",
      "|    \"isActive\": false,                              |\n",
      "|    \"latitude\": 52.461304,                          |\n",
      "|    \"longitude\": -145.645799,                       |\n",
      "|    \"name\": \"Elma Jennings\",                        |\n",
      "|    \"phone\": \"+1 (863) 484-2583\",                   |\n",
      "|    \"picture\": \"http://placehold.it/32x32\",         |\n",
      "|    \"registered\": \"2015-05-08T01:02:10 -06:-30\",    |\n",
      "|    \"tags\": [                                       |\n",
      "|      \"do\",                                         |\n",
      "|      \"ea\",                                         |\n",
      "|      \"sint\",                                       |\n",
      "|      \"sit\",                                        |\n",
      "|      \"amet\",                                       |\n",
      "|      \"pariatur\",                                   |\n",
      "|      \"aliquip\"                                     |\n",
      "|    ]                                               |\n",
      "|  },                                                |\n",
      "|  {                                                 |\n",
      "|    \"_id\": \"65d8f0f24483b991481bb7db\",              |\n",
      "|    \"about\": \"Ex pariatur laborum incididunt au...  |\n",
      "|    \"address\": \"555 Banner Avenue, Lydia, Vermo...  |\n",
      "|    \"age\": 27,                                      |\n",
      "|    \"balance\": \"$2,322.21\",                         |\n",
      "|    \"company\": \"ECOSYS\",                            |\n",
      "|    \"email\": \"huntcraig@ecosys.com\",                |\n",
      "|    \"eyeColor\": \"blue\",                             |\n",
      "|    \"favoriteFruit\": \"banana\",                      |\n",
      "|    \"friends\": [                                    |\n",
      "|      {                                             |\n",
      "|        \"id\": 0,                                    |\n",
      "|        \"name\": \"Marsh Wheeler\"                     |\n",
      "|      },                                            |\n",
      "|      {                                             |\n",
      "|        \"id\": 1,                                    |\n",
      "|        \"name\": \"Ware Fry\"                          |\n",
      "|      },                                            |\n",
      "|      {                                             |\n",
      "|        \"id\": 2,                                    |\n",
      "|        \"name\": \"Carver Moon\"                       |\n",
      "|      }                                             |\n",
      "|    ],                                              |\n",
      "|    \"gender\": \"male\",                               |\n",
      "|    \"greeting\": \"Hello, Hunt Craig! You have 7 ...  |\n",
      "|    \"guid\": \"1c26c848-6054-4ca1-baa2-a5a5ff5c94...  |\n",
      "|    \"index\": 2,                                     |\n",
      "|    \"isActive\": true,                               |\n",
      "|    \"latitude\": 49.121822,                          |\n",
      "|    \"longitude\": 11.798094,                         |\n",
      "|    \"name\": \"Hunt Craig\",                           |\n",
      "|    \"phone\": \"+1 (954) 564-3598\",                   |\n",
      "|    \"picture\": \"http://placehold.it/32x32\",         |\n",
      "|    \"registered\": \"2021-12-13T09:16:52 -06:-30\",    |\n",
      "|    \"tags\": [                                       |\n",
      "|      \"culpa\",                                      |\n",
      "|      \"ex\",                                         |\n",
      "|      \"mollit\",                                     |\n",
      "|      \"reprehenderit\",                              |\n",
      "|      \"veniam\",                                     |\n",
      "|      \"nulla\",                                      |\n",
      "|      \"officia\"                                     |\n",
      "|    ]                                               |\n",
      "|  },                                                |\n",
      "|  {                                                 |\n",
      "|    \"_id\": \"65d8f0f2842e0adfbac2b1b3\",              |\n",
      "|    \"about\": \"Aliqua Lorem do deserunt Lorem al...  |\n",
      "|    \"address\": \"211 Franklin Street, Elizaville...  |\n",
      "|    \"age\": 30,                                      |\n",
      "|    \"balance\": \"$2,860.17\",                         |\n",
      "|    \"company\": \"ARCTIQ\",                            |\n",
      "|    \"email\": \"nitaglass@arctiq.com\",                |\n",
      "|    \"eyeColor\": \"blue\",                             |\n",
      "|    \"favoriteFruit\": \"apple\",                       |\n",
      "|    \"friends\": [                                    |\n",
      "|      {                                             |\n",
      "|        \"id\": 0,                                    |\n",
      "|        \"name\": \"Eula Rollins\"                      |\n",
      "|      },                                            |\n",
      "|      {                                             |\n",
      "|        \"id\": 1,                                    |\n",
      "|        \"name\": \"Simpson Oneill\"                    |\n",
      "|      },                                            |\n",
      "|      {                                             |\n",
      "|        \"id\": 2,                                    |\n",
      "|        \"name\": \"Giles Vasquez\"                     |\n",
      "|      }                                             |\n",
      "|    ],                                              |\n",
      "|    \"gender\": \"female\",                             |\n",
      "|    \"greeting\": \"Hello, Nita Glass! You have 4 ...  |\n",
      "|    \"guid\": \"fb7e9947-9368-4d2a-bb9d-8cb6037d19...  |\n",
      "|    \"index\": 3,                                     |\n",
      "|    \"isActive\": true,                               |\n",
      "|    \"latitude\": -23.504775,                         |\n",
      "|    \"longitude\": -172.651492,                       |\n",
      "|    \"name\": \"Nita Glass\",                           |\n",
      "|    \"phone\": \"+1 (958) 584-3044\",                   |\n",
      "|    \"picture\": \"http://placehold.it/32x32\",         |\n",
      "|    \"registered\": \"2023-07-08T10:58:34 -06:-30\",    |\n",
      "|    \"tags\": [                                       |\n",
      "|      \"culpa\",                                      |\n",
      "|      \"officia\",                                    |\n",
      "|      \"non\",                                        |\n",
      "|      \"ad\",                                         |\n",
      "|      \"irure\",                                      |\n",
      "|      \"eu\",                                         |\n",
      "|      \"cupidatat\"                                   |\n",
      "|    ]                                               |\n",
      "|  },                                                |\n",
      "|  {                                                 |\n",
      "|    \"_id\": \"65d8f0f265193d45650e9be3\",              |\n",
      "|    \"about\": \"Aliqua voluptate ad aliquip quis ...  |\n",
      "|    \"address\": \"393 Hale Avenue, Shawmut, Misso...  |\n",
      "|    \"age\": 35,                                      |\n",
      "|    \"balance\": \"$3,748.32\",                         |\n",
      "|    \"company\": \"RODEOLOGY\",                         |\n",
      "|    \"email\": \"susielara@rodeology.com\",             |\n",
      "|    \"eyeColor\": \"brown\",                            |\n",
      "|    \"favoriteFruit\": \"apple\",                       |\n",
      "|    \"friends\": [                                    |\n",
      "|      {                                             |\n",
      "|        \"id\": 0,                                    |\n",
      "|        \"name\": \"Tamra Marsh\"                       |\n",
      "|      },                                            |\n",
      "|      {                                             |\n",
      "|        \"id\": 1,                                    |\n",
      "|        \"name\": \"Katharine Bradshaw\"                |\n",
      "|      },                                            |\n",
      "|      {                                             |\n",
      "|        \"id\": 2,                                    |\n",
      "|        \"name\": \"Frank Hayes\"                       |\n",
      "|      }                                             |\n",
      "|    ],                                              |\n",
      "|    \"gender\": \"female\",                             |\n",
      "|    \"greeting\": \"Hello, Susie Lara! You have 4 ...  |\n",
      "|    \"guid\": \"f369faa4-b85e-48c2-93bb-4e8af9fc14...  |\n",
      "|    \"index\": 4,                                     |\n",
      "|    \"isActive\": false,                              |\n",
      "|    \"latitude\": 17.673098,                          |\n",
      "|    \"longitude\": -88.441833,                        |\n",
      "|    \"name\": \"Susie Lara\",                           |\n",
      "|    \"phone\": \"+1 (828) 510-2369\",                   |\n",
      "|    \"picture\": \"http://placehold.it/32x32\",         |\n",
      "|    \"registered\": \"2016-03-16T10:19:35 -06:-30\",    |\n",
      "|    \"tags\": [                                       |\n",
      "|      \"culpa\",                                      |\n",
      "|      \"tempor\",                                     |\n",
      "|      \"exercitation\",                               |\n",
      "|      \"consectetur\",                                |\n",
      "|      \"quis\",                                       |\n",
      "|      \"duis\",                                       |\n",
      "|      \"adipisicing\"                                 |\n",
      "|    ]                                               |\n",
      "|  },                                                |\n",
      "|  {                                                 |\n",
      "|    \"_id\": \"65d8f0f28241e485a456fb49\",              |\n",
      "|    \"about\": \"Sint sit officia sit duis amet de...  |\n",
      "|    \"address\": \"757 Hooper Street, Elbert, Sout...  |\n",
      "|    \"age\": 28,                                      |\n",
      "|    \"balance\": \"$2,890.51\",                         |\n",
      "|    \"company\": \"EVEREST\",                           |\n",
      "|    \"email\": \"wardcolon@everest.com\",               |\n",
      "|    \"eyeColor\": \"green\",                            |\n",
      "|    \"favoriteFruit\": \"strawberry\",                  |\n",
      "|    \"friends\": [                                    |\n",
      "|      {                                             |\n",
      "|        \"id\": 0,                                    |\n",
      "|        \"name\": \"Tabitha Yang\"                      |\n",
      "|      },                                            |\n",
      "|      {                                             |\n",
      "|        \"id\": 1,                                    |\n",
      "|        \"name\": \"Sharpe Allison\"                    |\n",
      "|      },                                            |\n",
      "|      {                                             |\n",
      "|        \"id\": 2,                                    |\n",
      "|        \"name\": \"Bridgette Chapman\"                 |\n",
      "|      }                                             |\n",
      "|    ],                                              |\n",
      "|    \"gender\": \"male\",                               |\n",
      "|    \"greeting\": \"Hello, Ward Colon! You have 10...  |\n",
      "|    \"guid\": \"90bae378-9f89-426a-b846-12f4dd3b64...  |\n",
      "|    \"index\": 5,                                     |\n",
      "|    \"isActive\": true,                               |\n",
      "|    \"latitude\": 73.790872,                          |\n",
      "|    \"longitude\": 78.644868,                         |\n",
      "|    \"name\": \"Ward Colon\",                           |\n",
      "|    \"phone\": \"+1 (860) 562-2959\",                   |\n",
      "|    \"picture\": \"http://placehold.it/32x32\",         |\n",
      "|    \"registered\": \"2017-12-01T09:26:41 -06:-30\",    |\n",
      "|    \"tags\": [                                       |\n",
      "|      \"est\",                                        |\n",
      "|      \"minim\",                                      |\n",
      "|      \"non\",                                        |\n",
      "|      \"minim\",                                      |\n",
      "|      \"velit\",                                      |\n",
      "|      \"culpa\",                                      |\n",
      "|      \"dolore\"                                      |\n",
      "|    ]                                               |\n",
      "|  },                                                |\n",
      "|  {                                                 |\n",
      "|    \"_id\": \"65d8f0f212aed9d67377e43f\",              |\n",
      "|    \"about\": \"Veniam enim fugiat ut duis laboru...  |\n",
      "|    \"address\": \"932 Ridgewood Place, Logan, Ame...  |\n",
      "|    \"age\": 36,                                      |\n",
      "|    \"balance\": \"$3,779.16\",                         |\n",
      "|    \"company\": \"RETRACK\",                           |\n",
      "|    \"email\": \"jeniferbenjamin@retrack.com\",         |\n",
      "|    \"eyeColor\": \"brown\",                            |\n",
      "|    \"favoriteFruit\": \"apple\",                       |\n",
      "|    \"friends\": [                                    |\n",
      "|      {                                             |\n",
      "|        \"id\": 0,                                    |\n",
      "|        \"name\": \"Jayne Callahan\"                    |\n",
      "|      },                                            |\n",
      "|      {                                             |\n",
      "|        \"id\": 1,                                    |\n",
      "|        \"name\": \"Guzman Jarvis\"                     |\n",
      "|      },                                            |\n",
      "|      {                                             |\n",
      "|        \"id\": 2,                                    |\n",
      "|        \"name\": \"Heath Dale\"                        |\n",
      "|      }                                             |\n",
      "|    ],                                              |\n",
      "|    \"gender\": \"female\",                             |\n",
      "|    \"greeting\": \"Hello, Jenifer Benjamin! You h...  |\n",
      "|    \"guid\": \"95561803-d391-49a0-9e8e-65ac43331e...  |\n",
      "|    \"index\": 6,                                     |\n",
      "|    \"isActive\": true,                               |\n",
      "|    \"latitude\": -31.417172,                         |\n",
      "|    \"longitude\": 33.25584,                          |\n",
      "|    \"name\": \"Jenifer Benjamin\",                     |\n",
      "|    \"phone\": \"+1 (889) 567-2447\",                   |\n",
      "|    \"picture\": \"http://placehold.it/32x32\",         |\n",
      "|    \"registered\": \"2019-04-22T09:11:50 -06:-30\",    |\n",
      "|    \"tags\": [                                       |\n",
      "|      \"incididunt\",                                 |\n",
      "|      \"mollit\",                                     |\n",
      "|      \"ut\",                                         |\n",
      "|      \"labore\",                                     |\n",
      "|      \"amet\",                                       |\n",
      "|      \"magna\",                                      |\n",
      "|      \"mollit\"                                      |\n",
      "|    ]                                               |\n",
      "|  }                                                 |\n",
      "|]                                                   |\n",
      "------------------------------------------------------\n",
      "\n"
     ]
    }
   ],
   "source": [
    "# To create a DataFrame to hold the data from a file in a stage, use the read property to get a DataFrameReader object. \n",
    "# In the DataFrameReader object, call the method corresponding to the format of the data in the file:\n",
    "df = session.read.json(\"@json_input_tb/random_json_file.json\")\n",
    "df.show()"
   ]
  },
  {
   "cell_type": "code",
   "execution_count": 30,
   "id": "9708d395-f890-45ca-9a28-6b1c43fe0f72",
   "metadata": {},
   "outputs": [
    {
     "name": "stdout",
     "output_type": "stream",
     "text": [
      "---------------\n",
      "|\"A\"   |\"B\"   |\n",
      "---------------\n",
      "|Rank  |CCA3  |\n",
      "|36    |AFG   |\n",
      "|138   |ALB   |\n",
      "|34    |DZA   |\n",
      "|213   |ASM   |\n",
      "|203   |AND   |\n",
      "|42    |AGO   |\n",
      "|224   |AIA   |\n",
      "|201   |ATG   |\n",
      "|33    |ARG   |\n",
      "---------------\n",
      "\n"
     ]
    }
   ],
   "source": [
    "#Set schema is mandatory\n",
    "schema = StructType(\n",
    "    [\n",
    "        StructField(\"a\",StringType()),\n",
    "        StructField(\"b\", StringType())\n",
    "    ]\n",
    ")\n",
    "df = session.read.schema(schema).csv(\"@sample_data_stage/\")\n",
    "df.show()"
   ]
  },
  {
   "cell_type": "code",
   "execution_count": 31,
   "id": "c76fa331-7148-4b0e-a9be-b9efa72de638",
   "metadata": {},
   "outputs": [
    {
     "name": "stdout",
     "output_type": "stream",
     "text": [
      "--------------\n",
      "|\"NAME\"      |\n",
      "--------------\n",
      "|Product 1   |\n",
      "|Product 1A  |\n",
      "|Product 1B  |\n",
      "|Product 2   |\n",
      "|Product 2A  |\n",
      "|Product 2B  |\n",
      "|Product 3   |\n",
      "|Product 3A  |\n",
      "|Product 3B  |\n",
      "|Product 4   |\n",
      "--------------\n",
      "\n"
     ]
    }
   ],
   "source": [
    "# Create a DataFrame from a SQL query\n",
    "df = session.sql(\"select name from sample_product_data\")\n",
    "df.show()"
   ]
  },
  {
   "cell_type": "code",
   "execution_count": null,
   "id": "198af536-b051-4c5a-a542-064025596784",
   "metadata": {},
   "outputs": [],
   "source": [
    "#I t is possible to use the sql method to execute SELECT statements that retrieve data from tables and staged files. \n",
    "# However using the table method and read property offer better syntax highlighting, error highlighting."
   ]
  },
  {
   "cell_type": "code",
   "execution_count": 35,
   "id": "3c099b2b-668a-4ddb-8cf0-e38fc46d0b74",
   "metadata": {},
   "outputs": [],
   "source": [
    "session.close()"
   ]
  }
 ],
 "metadata": {
  "kernelspec": {
   "display_name": "Python 3 (ipykernel)",
   "language": "python",
   "name": "python3"
  },
  "language_info": {
   "codemirror_mode": {
    "name": "ipython",
    "version": 3
   },
   "file_extension": ".py",
   "mimetype": "text/x-python",
   "name": "python",
   "nbconvert_exporter": "python",
   "pygments_lexer": "ipython3",
   "version": "3.9.12"
  }
 },
 "nbformat": 4,
 "nbformat_minor": 5
}
