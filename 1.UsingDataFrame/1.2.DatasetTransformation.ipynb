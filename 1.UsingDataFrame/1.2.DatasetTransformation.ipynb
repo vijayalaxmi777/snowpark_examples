{
 "cells": [
  {
   "cell_type": "code",
   "execution_count": null,
   "id": "6c837f6d-6bb5-4779-a8d9-424ca06066fc",
   "metadata": {},
   "outputs": [],
   "source": [
    "# Specifying How the Dataset Should Be Transformed"
   ]
  },
  {
   "cell_type": "code",
   "execution_count": 7,
   "id": "a4bf1ca3-1da3-4083-9a81-1152eefa5586",
   "metadata": {},
   "outputs": [],
   "source": [
    "from snowflake.snowpark import Session\n",
    "# Define - connection_parameters as mentioned in creating session \n",
    "session = Session.builder.configs(connection_parameters).create()"
   ]
  },
  {
   "cell_type": "code",
   "execution_count": 4,
   "id": "b7f37ba3-8550-466b-a471-9d17fa649914",
   "metadata": {},
   "outputs": [],
   "source": [
    "from snowflake.snowpark.functions import col"
   ]
  },
  {
   "cell_type": "code",
   "execution_count": 9,
   "id": "5f8cbe6a-fa4d-4252-a65c-c2986468fac5",
   "metadata": {},
   "outputs": [
    {
     "name": "stdout",
     "output_type": "stream",
     "text": [
      "------------------------------------------------------------------------------------\n",
      "|\"ID\"  |\"PARENT_ID\"  |\"CATEGORY_ID\"  |\"NAME\"     |\"SERIAL_NUMBER\"  |\"KEY\"  |\"3rd\"  |\n",
      "------------------------------------------------------------------------------------\n",
      "|1     |0            |5              |Product 1  |prod-1           |1      |10     |\n",
      "------------------------------------------------------------------------------------\n",
      "\n"
     ]
    }
   ],
   "source": [
    "# The filter method: where condition \n",
    "df = session.table(\"sample_product_data\").filter(col(\"id\") == 1)\n",
    "df.show()"
   ]
  },
  {
   "cell_type": "code",
   "execution_count": 10,
   "id": "236682ba-c22d-4560-9758-2bd44e16297d",
   "metadata": {},
   "outputs": [
    {
     "name": "stdout",
     "output_type": "stream",
     "text": [
      "---------------------\n",
      "|\"ID\"  |\"NAME\"      |\n",
      "---------------------\n",
      "|1     |Product 1   |\n",
      "|2     |Product 1A  |\n",
      "|3     |Product 1B  |\n",
      "|4     |Product 2   |\n",
      "|5     |Product 2A  |\n",
      "|6     |Product 2B  |\n",
      "|7     |Product 3   |\n",
      "|8     |Product 3A  |\n",
      "|9     |Product 3B  |\n",
      "|10    |Product 4   |\n",
      "---------------------\n",
      "\n"
     ]
    }
   ],
   "source": [
    "# Select method\n",
    "from snowflake.snowpark.functions import col\n",
    "df = session.table(\"sample_product_data\").select(col(\"id\"), col(\"name\"))\n",
    "df.show()"
   ]
  },
  {
   "cell_type": "code",
   "execution_count": 11,
   "id": "d9ae448f-1f05-4e29-88cb-014d3b5fe020",
   "metadata": {},
   "outputs": [
    {
     "name": "stdout",
     "output_type": "stream",
     "text": [
      "---------------------\n",
      "|\"ID\"  |\"NAME\"      |\n",
      "---------------------\n",
      "|1     |Product 1   |\n",
      "|2     |Product 1A  |\n",
      "|3     |Product 1B  |\n",
      "|4     |Product 2   |\n",
      "|5     |Product 2A  |\n",
      "|6     |Product 2B  |\n",
      "|7     |Product 3   |\n",
      "|8     |Product 3A  |\n",
      "|9     |Product 3B  |\n",
      "|10    |Product 4   |\n",
      "---------------------\n",
      "\n",
      "---------------------\n",
      "|\"ID\"  |\"NAME\"      |\n",
      "---------------------\n",
      "|1     |Product 1   |\n",
      "|2     |Product 1A  |\n",
      "|3     |Product 1B  |\n",
      "|4     |Product 2   |\n",
      "|5     |Product 2A  |\n",
      "|6     |Product 2B  |\n",
      "|7     |Product 3   |\n",
      "|8     |Product 3A  |\n",
      "|9     |Product 3B  |\n",
      "|10    |Product 4   |\n",
      "---------------------\n",
      "\n",
      "--------------------------\n",
      "|\"ID\"  |\"SERIAL_NUMBER\"  |\n",
      "--------------------------\n",
      "|1     |prod-1           |\n",
      "|2     |prod-1-A         |\n",
      "|3     |prod-1-B         |\n",
      "|4     |prod-2           |\n",
      "|5     |prod-2-A         |\n",
      "|6     |prod-2-B         |\n",
      "|7     |prod-3           |\n",
      "|8     |prod-3-A         |\n",
      "|9     |prod-3-B         |\n",
      "|10    |prod-4           |\n",
      "--------------------------\n",
      "\n"
     ]
    }
   ],
   "source": [
    "# Another way to consider columms except col function\n",
    "\n",
    "df_product_info = session.table(\"sample_product_data\")\n",
    "df1 = df_product_info.select(df_product_info[\"id\"], df_product_info[\"name\"])\n",
    "df2 = df_product_info.select(df_product_info.id, df_product_info.name)\n",
    "df3 = df_product_info.select('id', \"serial_number\")\n",
    "df1.show()\n",
    "df2.show()\n",
    "df3.show()"
   ]
  },
  {
   "cell_type": "code",
   "execution_count": null,
   "id": "a9e2761e",
   "metadata": {},
   "outputs": [],
   "source": [
    "session.close()"
   ]
  }
 ],
 "metadata": {
  "kernelspec": {
   "display_name": "Python 3 (ipykernel)",
   "language": "python",
   "name": "python3"
  },
  "language_info": {
   "codemirror_mode": {
    "name": "ipython",
    "version": 3
   },
   "file_extension": ".py",
   "mimetype": "text/x-python",
   "name": "python",
   "nbconvert_exporter": "python",
   "pygments_lexer": "ipython3",
   "version": "3.9.12"
  }
 },
 "nbformat": 4,
 "nbformat_minor": 5
}
