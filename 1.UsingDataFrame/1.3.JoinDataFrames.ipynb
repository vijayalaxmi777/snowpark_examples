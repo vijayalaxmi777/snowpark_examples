{
 "cells": [
  {
   "cell_type": "code",
   "execution_count": 2,
   "id": "18c72755-82d2-46aa-ba67-a5fbb7393f3b",
   "metadata": {},
   "outputs": [],
   "source": [
    "from snowflake.snowpark import Session\n",
    "# Define - connection_parameters as mentioned in creating session  \n",
    "session = Session.builder.configs(connection_parameters).create()"
   ]
  },
  {
   "cell_type": "code",
   "execution_count": 3,
   "id": "c63c1151-896e-4a2a-bb56-2a40d943d00c",
   "metadata": {},
   "outputs": [
    {
     "name": "stdout",
     "output_type": "stream",
     "text": [
      "--------------------\n",
      "|\"KEY\"  |\"VALUE1\"  |\n",
      "--------------------\n",
      "|1      |snow      |\n",
      "|2      |flake     |\n",
      "--------------------\n",
      "\n"
     ]
    }
   ],
   "source": [
    "# To join DataFrame objects, call the join method:\n",
    "lhs_df = session.create_dataframe([[1,\"snow\"],[2,\"flake\"]], schema= [\"key\",\"value1\"])\n",
    "lhs_df.show()"
   ]
  },
  {
   "cell_type": "code",
   "execution_count": 4,
   "id": "dc880fb7-bb84-4c34-b078-991c7734240b",
   "metadata": {},
   "outputs": [
    {
     "name": "stdout",
     "output_type": "stream",
     "text": [
      "--------------------\n",
      "|\"KEY\"  |\"VALUE2\"  |\n",
      "--------------------\n",
      "|1      |AWS       |\n",
      "|2      |Azure     |\n",
      "|3      |GCP       |\n",
      "--------------------\n",
      "\n"
     ]
    }
   ],
   "source": [
    "rhs_df = session.create_dataframe([[1,\"AWS\"],[2,\"Azure\"],[3,\"GCP\"]], schema = [\"key\", \"value2\"])\n",
    "rhs_df.show()"
   ]
  },
  {
   "cell_type": "code",
   "execution_count": 5,
   "id": "ddd4e4b5-f5ca-4bad-872f-b8acbed58eeb",
   "metadata": {},
   "outputs": [
    {
     "name": "stdout",
     "output_type": "stream",
     "text": [
      "-----------------------------------------------------\n",
      "|\"l_zdof_KEY\"  |\"VALUE1\"  |\"r_368e_KEY\"  |\"VALUE2\"  |\n",
      "-----------------------------------------------------\n",
      "|1             |snow      |1             |AWS       |\n",
      "|2             |flake     |2             |Azure     |\n",
      "-----------------------------------------------------\n",
      "\n"
     ]
    }
   ],
   "source": [
    "df_joined = lhs_df.join(rhs_df, lhs_df.col(\"key\") == rhs_df.col(\"key\"))\n",
    "df_joined.show()"
   ]
  },
  {
   "cell_type": "code",
   "execution_count": 6,
   "id": "9d1da43e-fea9-458b-8257-f69827adbff3",
   "metadata": {},
   "outputs": [
    {
     "name": "stdout",
     "output_type": "stream",
     "text": [
      "-------------------------------\n",
      "|\"KEY\"  |\"VALUE1\"  |\"VALUE2\"  |\n",
      "-------------------------------\n",
      "|1      |snow      |AWS       |\n",
      "|2      |flake     |Azure     |\n",
      "-------------------------------\n",
      "\n"
     ]
    }
   ],
   "source": [
    "joined_df = lhs_df.join(rhs_df, lhs_df.col(\"key\") == rhs_df.col(\"key\")).select(lhs_df[\"key\"].as_(\"key\"),\"value1\",\"value2\")\n",
    "joined_df.show()"
   ]
  },
  {
   "cell_type": "code",
   "execution_count": 7,
   "id": "c8076176-7b78-4d66-9264-02fd96e86368",
   "metadata": {},
   "outputs": [
    {
     "name": "stdout",
     "output_type": "stream",
     "text": [
      "-------------------------------\n",
      "|\"KEY\"  |\"VALUE1\"  |\"VALUE2\"  |\n",
      "-------------------------------\n",
      "|1      |snow      |AWS       |\n",
      "|2      |flake     |Azure     |\n",
      "-------------------------------\n",
      "\n"
     ]
    }
   ],
   "source": [
    "# If both DataFrames have the same column to join on, we can use the following example syntax:\n",
    "lhs_df.join(rhs_df,[\"key\"]).show()\n"
   ]
  },
  {
   "cell_type": "code",
   "execution_count": 11,
   "id": "88e785a0-0fc6-4a2c-892d-f5146a608440",
   "metadata": {},
   "outputs": [
    {
     "name": "stdout",
     "output_type": "stream",
     "text": [
      "-----------------------------------------------------\n",
      "|\"l_awka_KEY\"  |\"VALUE1\"  |\"r_02hy_KEY\"  |\"VALUE2\"  |\n",
      "-----------------------------------------------------\n",
      "|1             |snow      |1             |AWS       |\n",
      "-----------------------------------------------------\n",
      "\n"
     ]
    }
   ],
   "source": [
    "#  The & operator to connect join expressions:\n",
    "df = lhs_df.join(rhs_df,(lhs_df[\"key\"] == rhs_df[\"key\"]) & (lhs_df[\"key\"] < 2))\n",
    "df.show()"
   ]
  },
  {
   "cell_type": "code",
   "execution_count": 12,
   "id": "4cc36d80-fece-4740-aa3a-6add13322e45",
   "metadata": {},
   "outputs": [
    {
     "name": "stdout",
     "output_type": "stream",
     "text": [
      "-------------------------------\n",
      "|\"KEY\"  |\"VALUE1\"  |\"VALUE2\"  |\n",
      "-------------------------------\n",
      "|1      |snow      |AWS       |\n",
      "-------------------------------\n",
      "\n"
     ]
    }
   ],
   "source": [
    "df = lhs_df.join(rhs_df,(lhs_df[\"key\"] == rhs_df[\"key\"]) & (lhs_df[\"key\"] < 2)).select(lhs_df[\"key\"].as_(\"key\"), \"value1\", \"value2\")\n",
    "df.show()"
   ]
  },
  {
   "cell_type": "code",
   "execution_count": 13,
   "id": "cc290edb-199f-4957-ac22-21d0787fa2a5",
   "metadata": {},
   "outputs": [
    {
     "name": "stdout",
     "output_type": "stream",
     "text": [
      "---------------------------------------------\n",
      "|\"KEY\"  |\"l_udf8_VALUE1\"  |\"r_3tlm_VALUE1\"  |\n",
      "---------------------------------------------\n",
      "|1      |snow             |snow             |\n",
      "|2      |flake            |flake            |\n",
      "---------------------------------------------\n",
      "\n"
     ]
    }
   ],
   "source": [
    "# self-join\n",
    "from copy import copy\n",
    "df_lhs_copied = copy(lhs_df)\n",
    "joined_df = lhs_df.join(df_lhs_copied, [\"key\"])\n",
    "joined_df.show()"
   ]
  },
  {
   "cell_type": "code",
   "execution_count": 14,
   "id": "f8f07526-94a9-4a26-ad81-9a8cae5f0d8c",
   "metadata": {},
   "outputs": [
    {
     "ename": "SnowparkJoinException",
     "evalue": "(1103): You cannot join a DataFrame with itself because the column references cannot be resolved correctly. Instead, create a copy of the DataFrame with copy.copy(), and join the DataFrame with this copy.",
     "output_type": "error",
     "traceback": [
      "\u001b[0;31m---------------------------------------------------------------------------\u001b[0m",
      "\u001b[0;31mSnowparkJoinException\u001b[0m                     Traceback (most recent call last)",
      "Cell \u001b[0;32mIn[14], line 2\u001b[0m\n\u001b[1;32m      1\u001b[0m copied_lhs_df \u001b[38;5;241m=\u001b[39m lhs_df\n\u001b[0;32m----> 2\u001b[0m \u001b[43mlhs_df\u001b[49m\u001b[38;5;241;43m.\u001b[39;49m\u001b[43mjoin\u001b[49m\u001b[43m(\u001b[49m\u001b[43mcopied_lhs_df\u001b[49m\u001b[43m,\u001b[49m\u001b[43m \u001b[49m\u001b[43m[\u001b[49m\u001b[38;5;124;43m\"\u001b[39;49m\u001b[38;5;124;43mkey\u001b[39;49m\u001b[38;5;124;43m\"\u001b[39;49m\u001b[43m]\u001b[49m\u001b[43m)\u001b[49m\u001b[38;5;241m.\u001b[39mshow()\n",
      "File \u001b[0;32m~/Documents/Repositories/snowpark_examples/.venv/lib/python3.9/site-packages/snowflake/snowpark/_internal/telemetry.py:184\u001b[0m, in \u001b[0;36mdf_api_usage.<locals>.wrap\u001b[0;34m(*args, **kwargs)\u001b[0m\n\u001b[1;32m    182\u001b[0m \u001b[38;5;129m@functools\u001b[39m\u001b[38;5;241m.\u001b[39mwraps(func)\n\u001b[1;32m    183\u001b[0m \u001b[38;5;28;01mdef\u001b[39;00m \u001b[38;5;21mwrap\u001b[39m(\u001b[38;5;241m*\u001b[39margs, \u001b[38;5;241m*\u001b[39m\u001b[38;5;241m*\u001b[39mkwargs):\n\u001b[0;32m--> 184\u001b[0m     r \u001b[38;5;241m=\u001b[39m \u001b[43mfunc\u001b[49m\u001b[43m(\u001b[49m\u001b[38;5;241;43m*\u001b[39;49m\u001b[43margs\u001b[49m\u001b[43m,\u001b[49m\u001b[43m \u001b[49m\u001b[38;5;241;43m*\u001b[39;49m\u001b[38;5;241;43m*\u001b[39;49m\u001b[43mkwargs\u001b[49m\u001b[43m)\u001b[49m\n\u001b[1;32m    185\u001b[0m     plan \u001b[38;5;241m=\u001b[39m r\u001b[38;5;241m.\u001b[39m_select_statement \u001b[38;5;129;01mor\u001b[39;00m r\u001b[38;5;241m.\u001b[39m_plan\n\u001b[1;32m    186\u001b[0m     \u001b[38;5;66;03m# Some DataFrame APIs call other DataFrame APIs, so we need to remove the extra call\u001b[39;00m\n",
      "File \u001b[0;32m~/Documents/Repositories/snowpark_examples/.venv/lib/python3.9/site-packages/snowflake/snowpark/dataframe.py:2183\u001b[0m, in \u001b[0;36mDataFrame.join\u001b[0;34m(self, right, on, how, lsuffix, rsuffix, **kwargs)\u001b[0m\n\u001b[1;32m   2181\u001b[0m \u001b[38;5;28;01mif\u001b[39;00m \u001b[38;5;28misinstance\u001b[39m(right, DataFrame):\n\u001b[1;32m   2182\u001b[0m     \u001b[38;5;28;01mif\u001b[39;00m \u001b[38;5;28mself\u001b[39m \u001b[38;5;129;01mis\u001b[39;00m right \u001b[38;5;129;01mor\u001b[39;00m \u001b[38;5;28mself\u001b[39m\u001b[38;5;241m.\u001b[39m_plan \u001b[38;5;129;01mis\u001b[39;00m right\u001b[38;5;241m.\u001b[39m_plan:\n\u001b[0;32m-> 2183\u001b[0m         \u001b[38;5;28;01mraise\u001b[39;00m SnowparkClientExceptionMessages\u001b[38;5;241m.\u001b[39mDF_SELF_JOIN_NOT_SUPPORTED()\n\u001b[1;32m   2185\u001b[0m     \u001b[38;5;28;01mif\u001b[39;00m \u001b[38;5;28misinstance\u001b[39m(join_type, Cross) \u001b[38;5;129;01mor\u001b[39;00m (\n\u001b[1;32m   2186\u001b[0m         \u001b[38;5;28misinstance\u001b[39m(join_type, \u001b[38;5;28mstr\u001b[39m)\n\u001b[1;32m   2187\u001b[0m         \u001b[38;5;129;01mand\u001b[39;00m join_type\u001b[38;5;241m.\u001b[39mstrip()\u001b[38;5;241m.\u001b[39mlower()\u001b[38;5;241m.\u001b[39mreplace(\u001b[38;5;124m\"\u001b[39m\u001b[38;5;124m_\u001b[39m\u001b[38;5;124m\"\u001b[39m, \u001b[38;5;124m\"\u001b[39m\u001b[38;5;124m\"\u001b[39m)\u001b[38;5;241m.\u001b[39mstartswith(\u001b[38;5;124m\"\u001b[39m\u001b[38;5;124mcross\u001b[39m\u001b[38;5;124m\"\u001b[39m)\n\u001b[1;32m   2188\u001b[0m     ):\n\u001b[1;32m   2189\u001b[0m         \u001b[38;5;28;01mif\u001b[39;00m column_to_bool(using_columns):\n",
      "\u001b[0;31mSnowparkJoinException\u001b[0m: (1103): You cannot join a DataFrame with itself because the column references cannot be resolved correctly. Instead, create a copy of the DataFrame with copy.copy(), and join the DataFrame with this copy."
     ]
    }
   ],
   "source": [
    "#Can't join this way\n",
    "copied_lhs_df = lhs_df\n",
    "lhs_df.join(copied_lhs_df, [\"key\"]).show()"
   ]
  },
  {
   "cell_type": "code",
   "execution_count": 16,
   "id": "06dc9e50-58e3-4536-a5de-2c1d1079d7e7",
   "metadata": {},
   "outputs": [
    {
     "name": "stdout",
     "output_type": "stream",
     "text": [
      "-------------------------------\n",
      "|\"KEY\"  |\"VALUE1\"  |\"VALUE2\"  |\n",
      "-------------------------------\n",
      "|1      |snow      |snow      |\n",
      "|2      |flake     |flake     |\n",
      "-------------------------------\n",
      "\n"
     ]
    }
   ],
   "source": [
    "# Rename overlapping columns using Column.alias:\n",
    "joined_df = lhs_df.join(df_lhs_copied, [\"key\"]).select(\"key\", lhs_df.col(\"value1\").alias(\"value1\"), df_lhs_copied[\"value1\"].as_(\"value2\"))\n",
    "joined_df.show()"
   ]
  },
  {
   "cell_type": "code",
   "execution_count": 18,
   "id": "1e0778cb-b1da-4bba-94b9-2b2689c81a4b",
   "metadata": {},
   "outputs": [
    {
     "name": "stdout",
     "output_type": "stream",
     "text": [
      "------------------------------------------\n",
      "|\"KEY\"  |\"VALUE1_LEFT\"  |\"VALUE1_RIGHT\"  |\n",
      "------------------------------------------\n",
      "|1      |snow           |snow            |\n",
      "|2      |flake          |flake           |\n",
      "------------------------------------------\n",
      "\n"
     ]
    }
   ],
   "source": [
    "# Specify a suffix to append to the overlapping columns:\n",
    "joined_df = lhs_df.join(df_lhs_copied, [\"key\"], lsuffix=\"_left\", rsuffix=\"_right\")\n",
    "joined_df.show()\n"
   ]
  },
  {
   "cell_type": "code",
   "execution_count": null,
   "id": "f772482a",
   "metadata": {},
   "outputs": [],
   "source": [
    "session.close()"
   ]
  }
 ],
 "metadata": {
  "kernelspec": {
   "display_name": "Python 3 (ipykernel)",
   "language": "python",
   "name": "python3"
  },
  "language_info": {
   "codemirror_mode": {
    "name": "ipython",
    "version": 3
   },
   "file_extension": ".py",
   "mimetype": "text/x-python",
   "name": "python",
   "nbconvert_exporter": "python",
   "pygments_lexer": "ipython3",
   "version": "3.9.12"
  }
 },
 "nbformat": 4,
 "nbformat_minor": 5
}
