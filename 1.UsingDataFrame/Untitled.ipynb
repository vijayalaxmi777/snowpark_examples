{
 "cells": [
  {
   "cell_type": "code",
   "execution_count": null,
   "id": "7bce7d6b-641a-4cf8-a3eb-ad5f3e7dd819",
   "metadata": {},
   "outputs": [],
   "source": []
  }
 ],
 "metadata": {
  "kernelspec": {
   "display_name": "",
   "name": ""
  },
  "language_info": {
   "name": ""
  }
 },
 "nbformat": 4,
 "nbformat_minor": 5
}
